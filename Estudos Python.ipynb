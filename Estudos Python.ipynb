{
 "cells": [
  {
   "cell_type": "markdown",
   "id": "ed7dd1a0",
   "metadata": {},
   "source": [
    "# Exercícios de Python OO - Bolsista do Projeto de sistema de recomendação por competências do SOS-PME UFRGS #"
   ]
  },
  {
   "cell_type": "markdown",
   "id": "74e00d3a",
   "metadata": {},
   "source": [
    "## Exercícios Final Slide: ##"
   ]
  },
  {
   "cell_type": "markdown",
   "id": "5010960f",
   "metadata": {},
   "source": [
    "### Class Autor: ###"
   ]
  },
  {
   "cell_type": "code",
   "execution_count": 14,
   "id": "64556b7b",
   "metadata": {},
   "outputs": [
    {
     "name": "stdout",
     "output_type": "stream",
     "text": [
      "Arthur  Costa - 21/07/2005 - Nome para citacoes: COSTA A.\n",
      "Glauber Clovis Josefino - 19/10/2000 - Nome para citacoes: JOSEFINO G.\n",
      "Jorgin  Claudin - 09/09/1909 - Nome para citacoes: CLAUDIN J.\n"
     ]
    }
   ],
   "source": [
    "class Autor():\n",
    "\n",
    "    def __init__(self, primeiro_nome, ultimo_nome, data_de_nascimento, nome_do_meio = ''):\n",
    "        self.primeiro_nome = primeiro_nome\n",
    "        self.ultimo_nome = ultimo_nome\n",
    "        self.data_nasc = data_de_nascimento\n",
    "        self.nome_meio = nome_do_meio\n",
    "    @property\n",
    "    def nome_como_citado(self):\n",
    "        return f\"{self.ultimo_nome.upper()} {self.primeiro_nome[0].upper()}.\"\n",
    "    \n",
    "    def __str__(self):\n",
    "        return f\"{self.primeiro_nome} {self.nome_meio} {self.ultimo_nome} - {self.data_nasc} - Nome para citacoes: {self.nome_como_citado}\"\n",
    "\n",
    "    def __repr__(self):\n",
    "        return str(self)\n",
    "\n",
    "\n",
    "\n",
    "arthur = Autor(\"Arthur\", \"Costa\", \"21/07/2005\")\n",
    "Glauber = Autor(\"Glauber\", \"Josefino\", \"19/10/2000\", \"Clovis\")\n",
    "Jorgin = Autor(\"Jorgin\", \"Claudin\", \"09/09/1909\")\n",
    "\n",
    "print(arthur)\n",
    "\n",
    "print(Glauber)\n",
    "print(Jorgin)\n"
   ]
  },
  {
   "cell_type": "markdown",
   "id": "4b1d8ec3",
   "metadata": {},
   "source": [
    "### Class Livro e Class Biblioteca ###"
   ]
  },
  {
   "cell_type": "code",
   "execution_count": 2,
   "id": "8bf89563",
   "metadata": {},
   "outputs": [
    {
     "name": "stdout",
     "output_type": "stream",
     "text": [
      "Titulo: Como nao ficar calvo em 2022 - Ano: 2000 - Autores: Kleber vidente\n",
      "Titulo: Como fazer dinheiro sem dinheiro - Ano: 2000 - Autores: 1 2 3 de Oliveira 4\n"
     ]
    }
   ],
   "source": [
    "class Livro():\n",
    "    \n",
    "    def __init__(self, titulo, ano, autores:list = []):\n",
    "        self.titulo = titulo\n",
    "        self.ano = ano\n",
    "        self.autores = autores\n",
    "\n",
    "    @property\n",
    "    def titulo(self):\n",
    "        return self._titulo\n",
    "\n",
    "    @titulo.setter\n",
    "    def titulo(self, tit):\n",
    "        if tit == \"\":\n",
    "            raise ValueError(\"Erro: Livro sem titulo\")\n",
    "        self._titulo = tit\n",
    "\n",
    "    def __str__(self):\n",
    "        return f\"Titulo: {self.titulo} - Ano: {self.ano} - Autores: {self.autores}\"\n",
    "    \n",
    "    def __repr__(self) -> str:\n",
    "        return str(self)\n",
    "\n",
    "\n",
    "Calvos = Livro(\"Como nao ficar calvo em 2022\", \"2000\", \"Kleber vidente\")\n",
    "Golpe = Livro(\"Como fazer dinheiro sem dinheiro\", \"2000\", \"1 2 3 de Oliveira 4\")\n",
    "\n",
    "print(Calvos)\n",
    "print(Golpe)\n",
    "\n",
    "class Biblioteca():\n",
    "\n",
    "    def __init__(self, livross:list, autor):\n",
    "        self.livros = livross\n",
    "        self.autor = autor\n",
    "    @property\n",
    "    def livros_por_autor(self):\n",
    "        return {self.autor:self.livros}\n",
    "    \n",
    "    def __str__(self):\n",
    "        return f\"Livros: {self.livros} - Autor: {self.autor}\"\n",
    "    def __repr__(self):\n",
    "        return str(self)\n",
    "\n",
    "Agatha_s = Biblioteca([\"Morte no nilo\", \"Assasinato no Expresso do Oriente\", \"Um corpo na biblioteca\"], \"Agatha Christie\")\n",
    "Arthur = Biblioteca(['calvo aos 12', 'Pouca telha'], \"Arthur Bernardo\")"
   ]
  },
  {
   "cell_type": "markdown",
   "id": "0f911034",
   "metadata": {},
   "source": [
    "## Exercicios Unidade 3 jupyter e python: ##"
   ]
  },
  {
   "cell_type": "markdown",
   "id": "cd07f39d",
   "metadata": {},
   "source": [
    "### Exercicio 0.1 ###"
   ]
  },
  {
   "cell_type": "markdown",
   "id": "69369053",
   "metadata": {},
   "source": [
    "Implemente a função metodos_vetor que recebe como parâmetro um vetor e retorna o próprio, porém com as seguintes modificações:\n",
    "\n",
    "* Ordene o vetor de forma crescente,\n",
    "* Remova o último elemento do vetor (quando já ordenado),\n",
    "* Insira a palavra abacate no início,\n",
    "* Retorne o vetor resultante"
   ]
  },
  {
   "cell_type": "code",
   "execution_count": 5,
   "id": "936d1329",
   "metadata": {},
   "outputs": [
    {
     "name": "stdout",
     "output_type": "stream",
     "text": [
      "['abacate', 'abacaxi', 'maçã', 'pera']\n"
     ]
    }
   ],
   "source": [
    "def metodos_vetor(vetor):\n",
    "    vetor.sort()\n",
    "    vetor.pop()\n",
    "    vetor.insert(0, 'abacate')\n",
    "    return vetor\n",
    "\n",
    "\n",
    "vetor_str = [\"uva\", \"maçã\", \"abacaxi\", \"pera\"]\n",
    "\n",
    "\n",
    "vetor_final = metodos_vetor(vetor_str)\n",
    "print(vetor_final)"
   ]
  },
  {
   "cell_type": "markdown",
   "id": "c4dd6a5a",
   "metadata": {},
   "source": [
    "### Exercicio 0.2 ###"
   ]
  },
  {
   "cell_type": "markdown",
   "id": "ecdf1bb3",
   "metadata": {},
   "source": [
    "Implemente a função metodos_string que recebe como parâmetro uma string e a retorna com as seguintes modificações:\n",
    "\n",
    "* Deixá-la toda maiúscula,\n",
    "* Substituir todas as letras \"o\" por \"a\".,\n",
    "* Escreva a string resultante"
   ]
  },
  {
   "cell_type": "code",
   "execution_count": 6,
   "id": "19d20367",
   "metadata": {},
   "outputs": [
    {
     "name": "stdout",
     "output_type": "stream",
     "text": [
      "CAMEMARAÇÃA\n",
      "ALHA\n"
     ]
    }
   ],
   "source": [
    "def metodos_string(string):\n",
    "    string = string.replace(\"o\", \"a\")\n",
    "    string = string.upper()\n",
    "    print(string)\n",
    "\n",
    "\n",
    "str_1 = \"comemoração\"\n",
    "str_2 = \"olho\"\n",
    "\n",
    "metodos_string(str_1)\n",
    "metodos_string(str_2)"
   ]
  },
  {
   "cell_type": "markdown",
   "id": "34560023",
   "metadata": {},
   "source": [
    "### Exercicio 1: Conversão de datas ###"
   ]
  },
  {
   "cell_type": "markdown",
   "id": "c071de40",
   "metadata": {},
   "source": [
    "Implemente a função converte_data que recebe como parâmetro uma data no formato DD/MM/YYYY (ex: 09/03/2021) e converte para o formato por extenso \"DD de M de YYYY\" (ou seja, 09 de março de 2020) e escreva-a."
   ]
  },
  {
   "cell_type": "code",
   "execution_count": 7,
   "id": "f87d41fa",
   "metadata": {},
   "outputs": [
    {
     "name": "stdout",
     "output_type": "stream",
     "text": [
      "31 de outubro de 2020\n",
      "22 de janeiro de 2004\n"
     ]
    }
   ],
   "source": [
    "def converte_data(data):\n",
    "    mes = {\"01\":\"janeiro\", \"02\":\"fevereiro\", \"03\":\"março\", \"04\":\"abril\", \"05\":\"maio\", \"06\":\"junho\", \"07\":\"julho\", \"08\":\"agosto\", \"09\":\"setembro\", \"10\":\"outubro\", \"11\":\"novembro\", \"12\":\"dezembro\",}\n",
    "    data = data.split('/')\n",
    "    print(f\"{data[0]} de {mes[data[1]]} de {data[2]}\")\n",
    "\n",
    "data_1 = \"31/10/2020\"\n",
    "data_2 = \"22/01/2004\"\n",
    "\n",
    "converte_data(data_1)\n",
    "converte_data(data_2)"
   ]
  },
  {
   "cell_type": "markdown",
   "id": "02cb8ca4",
   "metadata": {},
   "source": [
    "### Exercicio 2: Operações em string ###"
   ]
  },
  {
   "cell_type": "markdown",
   "id": "fa894a79",
   "metadata": {},
   "source": [
    "Implementar duas funções que auxiliarão nos exercícios posteriores\n",
    "    "
   ]
  },
  {
   "cell_type": "markdown",
   "id": "7df7f7cf",
   "metadata": {},
   "source": [
    "* elimina_caracteres (2 parâmetros) Elimina todas as ocorrências dos caracteres especificados de um texto. Tanto o texto quanto os caracteres a serem removidos são passados como parâmetros. Exemplo: elimina_caracteres('correndo contra o tempo', 'coe') devem resultar na string rrnd cntra tmp"
   ]
  },
  {
   "cell_type": "code",
   "execution_count": 8,
   "id": "d98c33cc",
   "metadata": {},
   "outputs": [
    {
     "name": "stdout",
     "output_type": "stream",
     "text": [
      "rrnd ntra tmp\n",
      "trg para tgrs trsts\n"
     ]
    }
   ],
   "source": [
    "def elimina_caracteres(texto, caracteres_para_eliminar):\n",
    "    for caracter_eliminar in caracteres_para_eliminar:\n",
    "        texto = texto.replace(caracter_eliminar, '')\n",
    "        texto = texto.replace(\"  \", \" \")\n",
    "    return texto\n",
    "\n",
    "\n",
    "resultado_1 = elimina_caracteres('correndo contra o tempo', 'coe')\n",
    "resultado_2 = elimina_caracteres('trigo para tigres tristes', 'ieo')\n",
    "\n",
    "print(resultado_1)\n",
    "print(resultado_2)"
   ]
  },
  {
   "cell_type": "markdown",
   "id": "a34e5a7e",
   "metadata": {},
   "source": [
    "* substitua_caracteres: (3 parâmetros) Dado um texto, uma string de procura e uma string de reposição, sendo que a string de procura e reposição são de mesmo tamanho. Substitua no texto o caractere na posição i da string de procura pelo caractere na mesma posição i na string de reposição."
   ]
  },
  {
   "cell_type": "code",
   "execution_count": 9,
   "id": "1925d994",
   "metadata": {},
   "outputs": [
    {
     "name": "stdout",
     "output_type": "stream",
     "text": [
      "i sipi nii livi i pu\n",
      "unu cempreu umu urerunhu\n"
     ]
    }
   ],
   "source": [
    "def substitua_caracteres(texto, caracteres_procura, caracteres_substituir_por):\n",
    "    for i in range(len(caracteres_procura)):\n",
    "        caractere_procura = caracteres_procura[i]\n",
    "        caractere_substituir_por = caracteres_substituir_por[i]\n",
    "        texto = texto.replace(caractere_procura, caractere_substituir_por)\n",
    "        \n",
    "    return texto\n",
    "\n",
    "resultado_1 = substitua_caracteres('o sapo nao lava o pe', 'aoe', 'iiu')\n",
    "resultado_2 = substitua_caracteres('ana comprou uma ariranha', 'aoi', 'uee')\n",
    "\n",
    "print(resultado_1)\n",
    "print(resultado_2)"
   ]
  },
  {
   "cell_type": "markdown",
   "id": "bdb47532",
   "metadata": {},
   "source": [
    "### Exercicio 3: Palíndromos ###"
   ]
  },
  {
   "cell_type": "markdown",
   "id": "c869436f",
   "metadata": {},
   "source": [
    "Implemente a função verifica_palindromo que recebe como parâmetro uma string (texto ou única palavra) e retorna true caso o parâmetro seja um palíndromo ou false, caso contrário.\n",
    "\n",
    "As funções do exercício anterior podem lhe ajudar para processamento de string, para isso chame-as e não implemente-as. Ignore as seguintes pontuações: , - ! ? e o espaço em branco. Além disso, acentos agudos, til e circunflexo em vogais devem ser ignorados."
   ]
  },
  {
   "cell_type": "code",
   "execution_count": 10,
   "id": "de508b93",
   "metadata": {},
   "outputs": [
    {
     "name": "stdout",
     "output_type": "stream",
     "text": [
      "True\n",
      "False\n"
     ]
    }
   ],
   "source": [
    "def verifica_palindromo(texto:str)->bool:\n",
    "    texto_contrario = []\n",
    "    for i in texto:\n",
    "        texto_contrario.append(i)\n",
    "    texto_contrario.reverse()\n",
    "    texto_contrario2 = \"\"\n",
    "    texto_contrario2 = texto_contrario2.join(texto_contrario)\n",
    "    if texto == texto_contrario2:\n",
    "        return True\n",
    "    else:\n",
    "        return False\n",
    "\n",
    "print(verifica_palindromo(\"apos a sopa\"))\n",
    "print(verifica_palindromo(\"azul\"))"
   ]
  },
  {
   "cell_type": "markdown",
   "id": "6c62046a",
   "metadata": {},
   "source": [
    "## Funções como parâmetro ##"
   ]
  },
  {
   "cell_type": "markdown",
   "id": "0a96528d",
   "metadata": {},
   "source": [
    "### Exercício 4: Funções como parâmetro 1 ###"
   ]
  },
  {
   "cell_type": "markdown",
   "id": "ce6073f2",
   "metadata": {},
   "source": [
    "Veja a função da_oi_para é uma função que imprime uma \"interface de dar oi\" para determinada pessoa. A forma de se dar oi é controlado pelo parâmetro função_de_dar_oi, que é uma função que recebe o nome da pessoa e é responsável por retorna uma string com o \"oi\" devidamente escrito em seu idioma. Além desse parâmetro, a função da_oi_para espera o nome da pessoa. No bloco abaixo temos sua implementação, repare tambpem nas vezes que ela foi invocada."
   ]
  },
  {
   "cell_type": "code",
   "execution_count": 14,
   "id": "fb3df63c",
   "metadata": {},
   "outputs": [],
   "source": [
    "def da_oi_para(funcao_de_dar_oi, str_pessoa):\n",
    "    #independente do nome da função externa, invocamos ela como funcao_de_dar_oi\n",
    "    str_oi = funcao_de_dar_oi(str_pessoa)\n",
    "    \n",
    "    print(\"============= Minha linda interface de dar oi =========\")\n",
    "    print(str_oi)\n",
    "    print(\"=========================================================\")"
   ]
  },
  {
   "cell_type": "code",
   "execution_count": 15,
   "id": "ff19a1fe",
   "metadata": {},
   "outputs": [],
   "source": [
    "def oi_portugues_formal(str_pessoa):\n",
    "    return f\"Oi Sr(a). {str_pessoa}, como vai?\"\n",
    "\n",
    "oi_portugues = lambda str_pessoa : f\"Oi {str_pessoa}, blza?\""
   ]
  },
  {
   "cell_type": "code",
   "execution_count": 16,
   "id": "e0d7e9d4",
   "metadata": {},
   "outputs": [
    {
     "name": "stdout",
     "output_type": "stream",
     "text": [
      "============= Minha linda interface de dar oi =========\n",
      "Oi Sr(a). Pessoinha, como vai?\n",
      "=========================================================\n",
      "============= Minha linda interface de dar oi =========\n",
      "Oi Pessoinha, blza?\n",
      "=========================================================\n",
      "============= Minha linda interface de dar oi =========\n",
      "Hi Pessoinha, how are you?\n",
      "=========================================================\n"
     ]
    }
   ],
   "source": [
    "da_oi_para(oi_portugues_formal, \"Pessoinha\")\n",
    "da_oi_para(oi_portugues, \"Pessoinha\")\n",
    "da_oi_para(lambda str_pessoa : f\"Hi {str_pessoa}, how are you?\", \"Pessoinha\")"
   ]
  },
  {
   "cell_type": "markdown",
   "id": "f16369e2",
   "metadata": {},
   "source": [
    "Invoque a função da_oi_para em que o parâmetro funcao_de_dar_oi será uma função criada por você. Lembre-se que ela deve obrigatóriamente possuir o parâmetro do nome da pessoa e retorna uma string.\n",
    "\n",
    "Crie, pelo menos, a função de três formas diferentes, tal como o exemplo"
   ]
  },
  {
   "cell_type": "code",
   "execution_count": 17,
   "id": "7103596b",
   "metadata": {},
   "outputs": [
    {
     "name": "stdout",
     "output_type": "stream",
     "text": [
      "***************************************\n",
      "Oi Sr(a). Arthur, como vai?\n",
      "***************************************\n",
      "***************************************\n",
      "Koe Arthur, suave?\n",
      "***************************************\n",
      "***************************************\n",
      "Iai Arthur, bão ou não?\n",
      "***************************************\n"
     ]
    }
   ],
   "source": [
    "def dar_oi_para(funcao_de_dar_oi, str_pessoa):\n",
    "    string_oi = funcao_de_dar_oi(str_pessoa)\n",
    "\n",
    "    print(\"***************************************\")\n",
    "    print(string_oi)\n",
    "    print(\"***************************************\")\n",
    "\n",
    "def oi_portgues_formal(str_pessoa):\n",
    "    return f\"Oi Sr(a). {str_pessoa}, como vai?\"\n",
    "\n",
    "def oi_portgues_informal(str_pessoa):\n",
    "    return f\"Koe {str_pessoa}, suave?\"\n",
    "\n",
    "def oi_portgues_mineires(str_pessoa):\n",
    "    return f\"Iai {str_pessoa}, bão ou não?\"\n",
    "\n",
    "dar_oi_para(oi_portgues_formal, \"Arthur\")\n",
    "dar_oi_para(oi_portgues_informal, \"Arthur\")\n",
    "dar_oi_para(oi_portgues_mineires, \"Arthur\")"
   ]
  },
  {
   "cell_type": "markdown",
   "id": "2cd41a6f",
   "metadata": {},
   "source": [
    "### Exercicio 5: Funções como parâmetro 2 ###"
   ]
  },
  {
   "cell_type": "markdown",
   "id": "a208ea35",
   "metadata": {},
   "source": [
    "Você irá implementar a função executa_operacao_vetor que recebe como parâmetro uma operação (função) e dois vetores, vetor1 e vetor2, de mesmo tamanho, e executa uma operação entre os elementos da mesma posição deste vetor. Esta operação é uma função que será chamada para cada posição deste vetor (ex: operacao(vetor1[i], vetor2[i])) e retornará o resultado desta operação. Caso os dois vetores sejam de tamanho diferentes, deve-se exibir uma mensagem de erro e não realizar a operação."
   ]
  },
  {
   "cell_type": "code",
   "execution_count": 18,
   "id": "4a7dc874",
   "metadata": {},
   "outputs": [
    {
     "name": "stdout",
     "output_type": "stream",
     "text": [
      "[0, 2, 4, 6, 8]\n",
      "[0, 1, 4, 9, 16]\n",
      "[0, 0, 0, 0, 0]\n"
     ]
    }
   ],
   "source": [
    "def executa_operacao_vetor(funcao, vetor1:list, vetor2:list):\n",
    "    vetor_resultados = []\n",
    "    i = 0\n",
    "    while i < len(vetor1):\n",
    "        vetor_resultados.append(funcao(vetor1[i], vetor2[i]))\n",
    "        i = i + 1\n",
    "    return vetor_resultados \n",
    "\n",
    "def soma(a:int, b:int):\n",
    "    return a + b\n",
    "\n",
    "def multiplicar(a, b):\n",
    "    return a * b\n",
    "\n",
    "def subtrair(a, b):\n",
    "    return a - b\n",
    "\n",
    "print(executa_operacao_vetor(soma, [0, 1, 2, 3, 4], [0, 1, 2, 3, 4]))\n",
    "print(executa_operacao_vetor(multiplicar, [0, 1, 2, 3, 4], [0, 1, 2, 3, 4]))\n",
    "print(executa_operacao_vetor(subtrair, [0, 1, 2, 3, 4], [0, 1, 2, 3, 4]))"
   ]
  },
  {
   "cell_type": "code",
   "execution_count": null,
   "id": "23cbe8ef",
   "metadata": {},
   "outputs": [],
   "source": []
  }
 ],
 "metadata": {
  "kernelspec": {
   "display_name": "Python 3 (ipykernel)",
   "language": "python",
   "name": "python3"
  },
  "language_info": {
   "codemirror_mode": {
    "name": "ipython",
    "version": 3
   },
   "file_extension": ".py",
   "mimetype": "text/x-python",
   "name": "python",
   "nbconvert_exporter": "python",
   "pygments_lexer": "ipython3",
   "version": "3.10.2"
  }
 },
 "nbformat": 4,
 "nbformat_minor": 5
}
